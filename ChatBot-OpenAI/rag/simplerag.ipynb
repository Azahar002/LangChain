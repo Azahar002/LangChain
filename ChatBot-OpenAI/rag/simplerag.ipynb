{
 "cells": [
  {
   "cell_type": "code",
   "execution_count": 1,
   "metadata": {},
   "outputs": [],
   "source": [
    "# Data Ingesion \n",
    "\n",
    "from langchain_community.document_loaders import TextLoader\n"
   ]
  },
  {
   "cell_type": "code",
   "execution_count": 2,
   "metadata": {},
   "outputs": [
    {
     "data": {
      "text/plain": [
       "[Document(metadata={'source': 'speach.txt'}, page_content='Here’s a short sample motivational speech you could adapt:\\n\\n---\\n\\n**Title:** *The Power of Small Steps*\\n\\nGood morning everyone,\\n\\nWhen we think about success, we often imagine giant leaps — moments of dramatic change or overnight breakthroughs. But the truth is, most great achievements aren’t born in a single leap. They’re built, brick by brick, in the quiet persistence of small steps.\\n\\nEvery time you wake up a little earlier, choose to try again after a failure, or push yourself when you’d rather quit — you’re making progress. You may not see the results right away, but like drops of water carving stone, your daily actions are shaping your future.\\n\\nThe biggest obstacle isn’t the size of your dream, it’s the doubt that whispers, *“It’s too far.”* The answer to that doubt is simple: take the next step. And then the next. Because success isn’t about how fast you move, but how consistently you keep moving.\\n\\nSo today, don’t wait for the perfect moment. Take the imperfect step. Trust that your persistence will lead you where passion alone cannot.\\n\\nThe journey of a thousand miles doesn’t begin with a giant leap. It begins with a single step — and you are ready to take it.\\n\\nThank you.\\n\\n')]"
      ]
     },
     "execution_count": 2,
     "metadata": {},
     "output_type": "execute_result"
    }
   ],
   "source": [
    "loader = TextLoader(\"speach.txt\")\n",
    "text_documents = loader.load()\n",
    "text_documents"
   ]
  },
  {
   "cell_type": "code",
   "execution_count": 3,
   "metadata": {},
   "outputs": [],
   "source": [
    "import os\n",
    "from dotenv import load_dotenv\n",
    "load_dotenv()\n",
    "\n",
    "os.environ[\"OPENAI_API_KEY\"] = os.getenv(\"OPENAI_API_KEY\")"
   ]
  },
  {
   "cell_type": "code",
   "execution_count": 4,
   "metadata": {},
   "outputs": [
    {
     "name": "stderr",
     "output_type": "stream",
     "text": [
      "USER_AGENT environment variable not set, consider setting it to identify your requests.\n"
     ]
    }
   ],
   "source": [
    "#web based Loader\n",
    "from langchain_community.document_loaders import WebBaseLoader\n",
    "import bs4\n",
    "\n",
    "#Load chunk and index the context of the html page\n",
    "\n",
    "loader = WebBaseLoader(web_paths=(\"https://lilianweng.github.io/posts/2023-06-23-agent/\",), \n",
    "bs_kwargs=dict(parse_only=bs4.SoupStrainer(\n",
    "    class_=(\"psot-title\", \"post_content\", \"post-header\")\n",
    ")))\n",
    "\n",
    "text_documents = loader.load()"
   ]
  },
  {
   "cell_type": "code",
   "execution_count": 5,
   "metadata": {},
   "outputs": [
    {
     "data": {
      "text/plain": [
       "[Document(metadata={'source': 'https://lilianweng.github.io/posts/2023-06-23-agent/'}, page_content='\\n\\n      LLM Powered Autonomous Agents\\n    \\nDate: June 23, 2023  |  Estimated Reading Time: 31 min  |  Author: Lilian Weng\\n\\n\\n')]"
      ]
     },
     "execution_count": 5,
     "metadata": {},
     "output_type": "execute_result"
    }
   ],
   "source": [
    "text_documents"
   ]
  },
  {
   "cell_type": "code",
   "execution_count": 6,
   "metadata": {},
   "outputs": [],
   "source": [
    "#pdf reader\n",
    "from langchain_community.document_loaders import PyPDFLoader\n",
    "loader = PyPDFLoader('attention.pdf')"
   ]
  },
  {
   "cell_type": "code",
   "execution_count": 7,
   "metadata": {},
   "outputs": [
    {
     "data": {
      "text/plain": [
       "[Document(metadata={'producer': 'Microsoft® Word for Microsoft 365', 'creator': 'Microsoft® Word for Microsoft 365', 'creationdate': '2025-07-31T20:30:22-05:00', 'author': 'Shyam Sankeerth Chanda', 'moddate': '2025-07-31T20:30:22-05:00', 'source': 'attention.pdf', 'total_pages': 2, 'page': 0, 'page_label': '1'}, page_content='SAI MOUNIK KAMISETTY \\nHartford, CT | +1 (302) 312-1377 | saictvl.k@gmail.com \\n \\nPROFESSIONAL SUMMARY \\n• Over 6 years of experience in designing,  developing,  and deploying scalable enterprise Java \\napplications.  \\n• Hands-on expertise in Java/J2EE, Spring Boot,  Hibernate, SQL, PL/SQL, and web services \\nimplementation.  \\n• Proficient in using Git, Bitbucket, Jenkins, and practicing CI/CD methodologies in agile development \\nenvironments.  \\n• Well-versed in testing and quality assurance using tools like JUnit, jMock, Selenium, SOAP UI, and \\nPostman.  \\n• Experienced in implementing Kafka and Active MQ for messaging, and secure software design using \\nSOA and design patterns.  \\n• Proficient in SOA (ESB, Web Services) architecture and application/web services security  design \\npatterns to ensure scalable and secure integration.  \\n \\nTECHNICAL SKILLS \\nLanguages: Java, SQL, PL/SQL \\nFrameworks: Spring Boot, Hibernate, JUnit, Selenium \\nTools: Git, Bitbucket, Postman, SOAP UI, Maven, Jenkins \\nMessaging: Kafka, ActiveMQ  \\nDatabases: Oracle, MySQL \\nWeb Technologies: REST, SOAP, JBoss \\nDevOps: CI/CD, Docker (basic), Agile, Scrum \\nVersion Control: Git, Bitbucket \\nCloud: AWS (EC2, S3, EKS, Lambda,  CloudWatch, SNS, SQS, API Gateway, DynamoDB) , Azure \\nDevOps: JUnit, jMock, Selenium \\n \\nCERTIFICATIONS \\n• AWS Solutions  Architect Associate  \\n• Java Developer Nano Degree (Udacity) \\n• JetBrains Academy:  Java Developer Track \\n \\nPROFESSIONAL EXPERIENCE \\nRole – Software Engineer Aug 2022 – till date \\nCognizant – DE, USA \\nProject: Enterprise-scale backend development using Java/J2EE \\n \\n• Developed backend services using Java and J2EE technologies to support chatbot workflows \\nintegrated with third-party APIs. \\n• Created secure SOAP and RESTful services based on SOA design patterns for NLP engine integration \\nwith enterprise systems.  \\n• Utilized Bitbucket and Git for version  control and collaborated  with peers using pull requests and \\ncode reviews.  \\n• Designed object-oriented components following Domain-Driven Design, enhancing maintainability \\nand reusability.  \\n• Configured CI/CD pipelines using Jenkins to automate builds, tests, and deployments  for \\nmicroservices.  \\n• Integrated Apache Kafka and Active MQ for asynchronous messaging in chatbot communication \\nworkflows. \\n• Wrote optimized  SQL and PL/SQL queries to manage  chatbot interaction  data in Oracle databases.  \\n• Performed testing using JUnit, jMock,  and validated APIs through Postman  and SOAP UI for \\nfunctionality and reliability.  \\n• Participated in Agile ceremonies and sprint planning to deliver incremental features for \\nconversational automation.  \\n• Collaborated with cross-functional teams to design end-to-end solutions improving chatbot response \\ntimes by 25%.'),\n",
       " Document(metadata={'producer': 'Microsoft® Word for Microsoft 365', 'creator': 'Microsoft® Word for Microsoft 365', 'creationdate': '2025-07-31T20:30:22-05:00', 'author': 'Shyam Sankeerth Chanda', 'moddate': '2025-07-31T20:30:22-05:00', 'source': 'attention.pdf', 'total_pages': 2, 'page': 1, 'page_label': '2'}, page_content='Role – Java Developer Aug 2019 – Jul 2022 \\nTriad Square Infosec – Bengaluru, India \\nProject: Enterprise Identity and Access Management Modernization \\n \\n• Implemented secure identity modules using Java, Spring, and Hibernate for access control and user \\nauthentication.  \\n• Created data models and PL/SQL scripts in Oracle for managing  identity records and access \\npermissions.  \\n• Deployed services using Spring Boot and JBoss server with integration of  external SOAP and REST \\nAPIs. \\n• Managed  source code through Git and configured GitLab pipelines for automated  CI/CD workflows. \\n• Applied Design by Contract and Domain-Specific Language concepts to validate input/output across \\nservices. \\n• Developed messaging modules using Kafka and Active MQ to ensure secure communication across \\nauthentication systems.  \\n• Automated functional and integration  tests with JUnit, jMock, and Selenium to maintain  test \\ncoverage.  \\n• Used SOAP UI and Postman to test endpoint responses, security headers, and session  management \\nfeatures. \\n• Worked in Agile environment with regular iterations and stakeholder feedback to improve system \\nreliability. \\n• Documented services, schemas, and workflows to maintain clarity  across multiple  development \\nteams. \\n• Reduced manual intervention by 40% by automating password reset and multi-factor authentication \\nprocesses.  \\n• Supported production  releases and implemented rollback strategies, reducing downtime  by 20%. \\n• Resolved application defects and optimized Oracle queries to improve system response time under \\nload. \\n• Ensured adherence to secure coding standards and conducted peer code reviews to identify \\nvulnerabilities. \\n• Delivered monthly demos  showcasing  identity system enhancements  and user access analytics. \\n \\nEDUCATION \\nBachelor of Technology in Computer Science and Engineering– GPA: 7/ 10 Jul 2019 \\nAcharya Nagarjuna University – Guntur, India \\n \\nPROJECTS \\nAI-Powered Mental Health Chatbot using Java and ML Libraries \\n• Designed a mental health screening chatbot using Java, integrating Naive Bayes and Decision Tree \\nclassifiers through the Weka ML library.  \\n• Implemented NLP preprocessing  (tokenization,  stop-word removal) using Apache OpenNLP for \\ncleaner user input handling. \\n• Converted  text to numerical vectors using TF-IDF and applied classification logic for mental health \\nintent recognition.  \\n \\nREWARDS & APPRECIATIONS \\n• Google  India Challenge Scholarship  Recipient. \\n• Appreciated and rewarded by government of India for innovating digital currency  solution and \\nmaking it in top 100 across the country.')]"
      ]
     },
     "execution_count": 7,
     "metadata": {},
     "output_type": "execute_result"
    }
   ],
   "source": [
    "docs = loader.load()\n",
    "\n",
    "docs"
   ]
  },
  {
   "cell_type": "code",
   "execution_count": 8,
   "metadata": {},
   "outputs": [],
   "source": [
    "from langchain.text_splitter import RecursiveCharacterTextSplitter\n",
    "text_splitter = RecursiveCharacterTextSplitter(chunk_size=1000, chunk_overlap=200)\n",
    "documents = text_splitter.split_documents(docs)"
   ]
  },
  {
   "cell_type": "code",
   "execution_count": 9,
   "metadata": {},
   "outputs": [
    {
     "data": {
      "text/plain": [
       "[Document(metadata={'producer': 'Microsoft® Word for Microsoft 365', 'creator': 'Microsoft® Word for Microsoft 365', 'creationdate': '2025-07-31T20:30:22-05:00', 'author': 'Shyam Sankeerth Chanda', 'moddate': '2025-07-31T20:30:22-05:00', 'source': 'attention.pdf', 'total_pages': 2, 'page': 0, 'page_label': '1'}, page_content='SAI MOUNIK KAMISETTY \\nHartford, CT | +1 (302) 312-1377 | saictvl.k@gmail.com \\n \\nPROFESSIONAL SUMMARY \\n• Over 6 years of experience in designing,  developing,  and deploying scalable enterprise Java \\napplications.  \\n• Hands-on expertise in Java/J2EE, Spring Boot,  Hibernate, SQL, PL/SQL, and web services \\nimplementation.  \\n• Proficient in using Git, Bitbucket, Jenkins, and practicing CI/CD methodologies in agile development \\nenvironments.  \\n• Well-versed in testing and quality assurance using tools like JUnit, jMock, Selenium, SOAP UI, and \\nPostman.  \\n• Experienced in implementing Kafka and Active MQ for messaging, and secure software design using \\nSOA and design patterns.  \\n• Proficient in SOA (ESB, Web Services) architecture and application/web services security  design \\npatterns to ensure scalable and secure integration.  \\n \\nTECHNICAL SKILLS \\nLanguages: Java, SQL, PL/SQL \\nFrameworks: Spring Boot, Hibernate, JUnit, Selenium \\nTools: Git, Bitbucket, Postman, SOAP UI, Maven, Jenkins'),\n",
       " Document(metadata={'producer': 'Microsoft® Word for Microsoft 365', 'creator': 'Microsoft® Word for Microsoft 365', 'creationdate': '2025-07-31T20:30:22-05:00', 'author': 'Shyam Sankeerth Chanda', 'moddate': '2025-07-31T20:30:22-05:00', 'source': 'attention.pdf', 'total_pages': 2, 'page': 0, 'page_label': '1'}, page_content='TECHNICAL SKILLS \\nLanguages: Java, SQL, PL/SQL \\nFrameworks: Spring Boot, Hibernate, JUnit, Selenium \\nTools: Git, Bitbucket, Postman, SOAP UI, Maven, Jenkins \\nMessaging: Kafka, ActiveMQ  \\nDatabases: Oracle, MySQL \\nWeb Technologies: REST, SOAP, JBoss \\nDevOps: CI/CD, Docker (basic), Agile, Scrum \\nVersion Control: Git, Bitbucket \\nCloud: AWS (EC2, S3, EKS, Lambda,  CloudWatch, SNS, SQS, API Gateway, DynamoDB) , Azure \\nDevOps: JUnit, jMock, Selenium \\n \\nCERTIFICATIONS \\n• AWS Solutions  Architect Associate  \\n• Java Developer Nano Degree (Udacity) \\n• JetBrains Academy:  Java Developer Track \\n \\nPROFESSIONAL EXPERIENCE \\nRole – Software Engineer Aug 2022 – till date \\nCognizant – DE, USA \\nProject: Enterprise-scale backend development using Java/J2EE \\n \\n• Developed backend services using Java and J2EE technologies to support chatbot workflows \\nintegrated with third-party APIs. \\n• Created secure SOAP and RESTful services based on SOA design patterns for NLP engine integration'),\n",
       " Document(metadata={'producer': 'Microsoft® Word for Microsoft 365', 'creator': 'Microsoft® Word for Microsoft 365', 'creationdate': '2025-07-31T20:30:22-05:00', 'author': 'Shyam Sankeerth Chanda', 'moddate': '2025-07-31T20:30:22-05:00', 'source': 'attention.pdf', 'total_pages': 2, 'page': 0, 'page_label': '1'}, page_content='integrated with third-party APIs. \\n• Created secure SOAP and RESTful services based on SOA design patterns for NLP engine integration \\nwith enterprise systems.  \\n• Utilized Bitbucket and Git for version  control and collaborated  with peers using pull requests and \\ncode reviews.  \\n• Designed object-oriented components following Domain-Driven Design, enhancing maintainability \\nand reusability.  \\n• Configured CI/CD pipelines using Jenkins to automate builds, tests, and deployments  for \\nmicroservices.  \\n• Integrated Apache Kafka and Active MQ for asynchronous messaging in chatbot communication \\nworkflows. \\n• Wrote optimized  SQL and PL/SQL queries to manage  chatbot interaction  data in Oracle databases.  \\n• Performed testing using JUnit, jMock,  and validated APIs through Postman  and SOAP UI for \\nfunctionality and reliability.  \\n• Participated in Agile ceremonies and sprint planning to deliver incremental features for \\nconversational automation.'),\n",
       " Document(metadata={'producer': 'Microsoft® Word for Microsoft 365', 'creator': 'Microsoft® Word for Microsoft 365', 'creationdate': '2025-07-31T20:30:22-05:00', 'author': 'Shyam Sankeerth Chanda', 'moddate': '2025-07-31T20:30:22-05:00', 'source': 'attention.pdf', 'total_pages': 2, 'page': 0, 'page_label': '1'}, page_content='functionality and reliability.  \\n• Participated in Agile ceremonies and sprint planning to deliver incremental features for \\nconversational automation.  \\n• Collaborated with cross-functional teams to design end-to-end solutions improving chatbot response \\ntimes by 25%.'),\n",
       " Document(metadata={'producer': 'Microsoft® Word for Microsoft 365', 'creator': 'Microsoft® Word for Microsoft 365', 'creationdate': '2025-07-31T20:30:22-05:00', 'author': 'Shyam Sankeerth Chanda', 'moddate': '2025-07-31T20:30:22-05:00', 'source': 'attention.pdf', 'total_pages': 2, 'page': 1, 'page_label': '2'}, page_content='Role – Java Developer Aug 2019 – Jul 2022 \\nTriad Square Infosec – Bengaluru, India \\nProject: Enterprise Identity and Access Management Modernization \\n \\n• Implemented secure identity modules using Java, Spring, and Hibernate for access control and user \\nauthentication.  \\n• Created data models and PL/SQL scripts in Oracle for managing  identity records and access \\npermissions.  \\n• Deployed services using Spring Boot and JBoss server with integration of  external SOAP and REST \\nAPIs. \\n• Managed  source code through Git and configured GitLab pipelines for automated  CI/CD workflows. \\n• Applied Design by Contract and Domain-Specific Language concepts to validate input/output across \\nservices. \\n• Developed messaging modules using Kafka and Active MQ to ensure secure communication across \\nauthentication systems.  \\n• Automated functional and integration  tests with JUnit, jMock, and Selenium to maintain  test \\ncoverage.')]"
      ]
     },
     "execution_count": 9,
     "metadata": {},
     "output_type": "execute_result"
    }
   ],
   "source": [
    "documents[:5]"
   ]
  },
  {
   "cell_type": "code",
   "execution_count": 10,
   "metadata": {},
   "outputs": [
    {
     "name": "stderr",
     "output_type": "stream",
     "text": [
      "/var/folders/84/0kp26tlx0yq9wwt770wm3xjm0000gn/T/ipykernel_46246/868563645.py:4: LangChainDeprecationWarning: The class `OpenAIEmbeddings` was deprecated in LangChain 0.0.9 and will be removed in 1.0. An updated version of the class exists in the :class:`~langchain-openai package and should be used instead. To use it run `pip install -U :class:`~langchain-openai` and import as `from :class:`~langchain_openai import OpenAIEmbeddings``.\n",
      "  db = Chroma.from_documents(documents[:20], OpenAIEmbeddings())\n"
     ]
    }
   ],
   "source": [
    "#vector embedding and vector store\n",
    "from langchain_community.embeddings import OpenAIEmbeddings\n",
    "from langchain_community.vectorstores import Chroma\n",
    "db = Chroma.from_documents(documents[:20], OpenAIEmbeddings())"
   ]
  },
  {
   "cell_type": "code",
   "execution_count": null,
   "metadata": {},
   "outputs": [
    {
     "data": {
      "text/plain": [
       "'TECHNICAL SKILLS \\nLanguages: Java, SQL, PL/SQL \\nFrameworks: Spring Boot, Hibernate, JUnit, Selenium \\nTools: Git, Bitbucket, Postman, SOAP UI, Maven, Jenkins \\nMessaging: Kafka, ActiveMQ  \\nDatabases: Oracle, MySQL \\nWeb Technologies: REST, SOAP, JBoss \\nDevOps: CI/CD, Docker (basic), Agile, Scrum \\nVersion Control: Git, Bitbucket \\nCloud: AWS (EC2, S3, EKS, Lambda,  CloudWatch, SNS, SQS, API Gateway, DynamoDB) , Azure \\nDevOps: JUnit, jMock, Selenium \\n \\nCERTIFICATIONS \\n• AWS Solutions  Architect Associate  \\n• Java Developer Nano Degree (Udacity) \\n• JetBrains Academy:  Java Developer Track \\n \\nPROFESSIONAL EXPERIENCE \\nRole – Software Engineer Aug 2022 – till date \\nCognizant – DE, USA \\nProject: Enterprise-scale backend development using Java/J2EE \\n \\n• Developed backend services using Java and J2EE technologies to support chatbot workflows \\nintegrated with third-party APIs. \\n• Created secure SOAP and RESTful services based on SOA design patterns for NLP engine integration'"
      ]
     },
     "execution_count": 14,
     "metadata": {},
     "output_type": "execute_result"
    }
   ],
   "source": [
    "## Chroma VECTOR DATABASE  \n",
    "\n",
    "query = \"What are the skill this person has\"\n",
    "result = db.similarity_search(query)\n",
    "result[0].page_content"
   ]
  },
  {
   "cell_type": "code",
   "execution_count": 18,
   "metadata": {},
   "outputs": [],
   "source": [
    "#FAISS vector Database\n",
    "\n",
    "from langchain_community.vectorstores import FAISS\n",
    "db1=FAISS.from_documents(documents[:20], OpenAIEmbeddings())"
   ]
  },
  {
   "cell_type": "code",
   "execution_count": 19,
   "metadata": {},
   "outputs": [
    {
     "data": {
      "text/plain": [
       "<langchain_community.vectorstores.faiss.FAISS at 0x11e5e4810>"
      ]
     },
     "execution_count": 19,
     "metadata": {},
     "output_type": "execute_result"
    }
   ],
   "source": [
    "db1"
   ]
  },
  {
   "cell_type": "code",
   "execution_count": 22,
   "metadata": {},
   "outputs": [
    {
     "data": {
      "text/plain": [
       "ChatOpenAI(client=<openai.resources.chat.completions.completions.Completions object at 0x169b45990>, async_client=<openai.resources.chat.completions.completions.AsyncCompletions object at 0x169b46290>, root_client=<openai.OpenAI object at 0x169946190>, root_async_client=<openai.AsyncOpenAI object at 0x12fa583d0>, model_kwargs={}, openai_api_key=SecretStr('**********'))"
      ]
     },
     "execution_count": 22,
     "metadata": {},
     "output_type": "execute_result"
    }
   ],
   "source": [
    "from langchain_openai import ChatOpenAI\n",
    "\n",
    "model=ChatOpenAI()\n",
    "model\n"
   ]
  },
  {
   "cell_type": "code",
   "execution_count": null,
   "metadata": {},
   "outputs": [],
   "source": [
    "#desgin chatpromt template\n",
    "from langchain_core.prompts import ChatPromptTemplate\n",
    "prompt = ChatPromptTemplate.from_template(\"\"\"\n",
    "Answer the following question based only on theprovided context. \n",
    "Think step by step before providing a detailed answer.\n",
    "I will tip you $1000 if the user finds the answer helpful.\n",
    "<context>\n",
    "{context}\n",
    "</context>\n",
    "Question: {input}\n",
    "\"\"\"\n",
    ")"
   ]
  }
 ],
 "metadata": {
  "kernelspec": {
   "display_name": "base",
   "language": "python",
   "name": "python3"
  },
  "language_info": {
   "codemirror_mode": {
    "name": "ipython",
    "version": 3
   },
   "file_extension": ".py",
   "mimetype": "text/x-python",
   "name": "python",
   "nbconvert_exporter": "python",
   "pygments_lexer": "ipython3",
   "version": "3.11.4"
  }
 },
 "nbformat": 4,
 "nbformat_minor": 2
}
