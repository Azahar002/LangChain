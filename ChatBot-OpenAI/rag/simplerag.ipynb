{
 "cells": [
  {
   "cell_type": "code",
   "execution_count": 1,
   "metadata": {},
   "outputs": [],
   "source": [
    "# Data Ingesion \n",
    "\n",
    "from langchain_community.document_loaders import TextLoader\n"
   ]
  },
  {
   "cell_type": "code",
   "execution_count": 3,
   "metadata": {},
   "outputs": [
    {
     "data": {
      "text/plain": [
       "[Document(metadata={'source': 'speach.txt'}, page_content='Here’s a short sample motivational speech you could adapt:\\n\\n---\\n\\n**Title:** *The Power of Small Steps*\\n\\nGood morning everyone,\\n\\nWhen we think about success, we often imagine giant leaps — moments of dramatic change or overnight breakthroughs. But the truth is, most great achievements aren’t born in a single leap. They’re built, brick by brick, in the quiet persistence of small steps.\\n\\nEvery time you wake up a little earlier, choose to try again after a failure, or push yourself when you’d rather quit — you’re making progress. You may not see the results right away, but like drops of water carving stone, your daily actions are shaping your future.\\n\\nThe biggest obstacle isn’t the size of your dream, it’s the doubt that whispers, *“It’s too far.”* The answer to that doubt is simple: take the next step. And then the next. Because success isn’t about how fast you move, but how consistently you keep moving.\\n\\nSo today, don’t wait for the perfect moment. Take the imperfect step. Trust that your persistence will lead you where passion alone cannot.\\n\\nThe journey of a thousand miles doesn’t begin with a giant leap. It begins with a single step — and you are ready to take it.\\n\\nThank you.\\n\\n')]"
      ]
     },
     "execution_count": 3,
     "metadata": {},
     "output_type": "execute_result"
    }
   ],
   "source": [
    "loader = TextLoader(\"speach.txt\")\n",
    "text_documents = loader.load()\n",
    "text_documents"
   ]
  },
  {
   "cell_type": "code",
   "execution_count": 4,
   "metadata": {},
   "outputs": [],
   "source": [
    "import os\n",
    "from dotenv import load_dotenv\n",
    "load_dotenv()\n",
    "\n",
    "os.environ[\"OPENAI_API_KEY\"] = os.getenv(\"OPENAI_API_KEY\")"
   ]
  },
  {
   "cell_type": "code",
   "execution_count": 13,
   "metadata": {},
   "outputs": [],
   "source": [
    "#web based Loader\n",
    "from langchain_community.document_loaders import WebBaseLoader\n",
    "import bs4\n",
    "\n",
    "#Load chunk and index the context of the html page\n",
    "\n",
    "loader = WebBaseLoader(web_paths=(\"https://lilianweng.github.io/posts/2023-06-23-agent/\",), \n",
    "bs_kwargs=dict(parse_only=bs4.SoupStrainer(\n",
    "    class_=(\"psot-title\", \"post_content\", \"post-header\")\n",
    ")))\n",
    "\n",
    "text_documents = loader.load()"
   ]
  },
  {
   "cell_type": "code",
   "execution_count": 14,
   "metadata": {},
   "outputs": [
    {
     "data": {
      "text/plain": [
       "[Document(metadata={'source': 'https://lilianweng.github.io/posts/2023-06-23-agent/'}, page_content='\\n\\n      LLM Powered Autonomous Agents\\n    \\nDate: June 23, 2023  |  Estimated Reading Time: 31 min  |  Author: Lilian Weng\\n\\n\\n')]"
      ]
     },
     "execution_count": 14,
     "metadata": {},
     "output_type": "execute_result"
    }
   ],
   "source": [
    "text_documents"
   ]
  },
  {
   "cell_type": "code",
   "execution_count": 23,
   "metadata": {},
   "outputs": [],
   "source": [
    "#pdf reader\n",
    "from langchain_community.document_loaders import PyPDFLoader\n",
    "loader = PyPDFLoader('attention.pdf')"
   ]
  },
  {
   "cell_type": "code",
   "execution_count": 24,
   "metadata": {},
   "outputs": [
    {
     "data": {
      "text/plain": [
       "[Document(metadata={'producer': 'Microsoft® Word for Microsoft 365', 'creator': 'Microsoft® Word for Microsoft 365', 'creationdate': '2025-07-31T20:30:22-05:00', 'author': 'Shyam Sankeerth Chanda', 'moddate': '2025-07-31T20:30:22-05:00', 'source': 'attention.pdf', 'total_pages': 2, 'page': 0, 'page_label': '1'}, page_content='SAI MOUNIK KAMISETTY \\nHartford, CT | +1 (302) 312-1377 | saictvl.k@gmail.com \\n \\nPROFESSIONAL SUMMARY \\n• Over 6 years of experience in designing,  developing,  and deploying scalable enterprise Java \\napplications.  \\n• Hands-on expertise in Java/J2EE, Spring Boot,  Hibernate, SQL, PL/SQL, and web services \\nimplementation.  \\n• Proficient in using Git, Bitbucket, Jenkins, and practicing CI/CD methodologies in agile development \\nenvironments.  \\n• Well-versed in testing and quality assurance using tools like JUnit, jMock, Selenium, SOAP UI, and \\nPostman.  \\n• Experienced in implementing Kafka and Active MQ for messaging, and secure software design using \\nSOA and design patterns.  \\n• Proficient in SOA (ESB, Web Services) architecture and application/web services security  design \\npatterns to ensure scalable and secure integration.  \\n \\nTECHNICAL SKILLS \\nLanguages: Java, SQL, PL/SQL \\nFrameworks: Spring Boot, Hibernate, JUnit, Selenium \\nTools: Git, Bitbucket, Postman, SOAP UI, Maven, Jenkins \\nMessaging: Kafka, ActiveMQ  \\nDatabases: Oracle, MySQL \\nWeb Technologies: REST, SOAP, JBoss \\nDevOps: CI/CD, Docker (basic), Agile, Scrum \\nVersion Control: Git, Bitbucket \\nCloud: AWS (EC2, S3, EKS, Lambda,  CloudWatch, SNS, SQS, API Gateway, DynamoDB) , Azure \\nDevOps: JUnit, jMock, Selenium \\n \\nCERTIFICATIONS \\n• AWS Solutions  Architect Associate  \\n• Java Developer Nano Degree (Udacity) \\n• JetBrains Academy:  Java Developer Track \\n \\nPROFESSIONAL EXPERIENCE \\nRole – Software Engineer Aug 2022 – till date \\nCognizant – DE, USA \\nProject: Enterprise-scale backend development using Java/J2EE \\n \\n• Developed backend services using Java and J2EE technologies to support chatbot workflows \\nintegrated with third-party APIs. \\n• Created secure SOAP and RESTful services based on SOA design patterns for NLP engine integration \\nwith enterprise systems.  \\n• Utilized Bitbucket and Git for version  control and collaborated  with peers using pull requests and \\ncode reviews.  \\n• Designed object-oriented components following Domain-Driven Design, enhancing maintainability \\nand reusability.  \\n• Configured CI/CD pipelines using Jenkins to automate builds, tests, and deployments  for \\nmicroservices.  \\n• Integrated Apache Kafka and Active MQ for asynchronous messaging in chatbot communication \\nworkflows. \\n• Wrote optimized  SQL and PL/SQL queries to manage  chatbot interaction  data in Oracle databases.  \\n• Performed testing using JUnit, jMock,  and validated APIs through Postman  and SOAP UI for \\nfunctionality and reliability.  \\n• Participated in Agile ceremonies and sprint planning to deliver incremental features for \\nconversational automation.  \\n• Collaborated with cross-functional teams to design end-to-end solutions improving chatbot response \\ntimes by 25%.'),\n",
       " Document(metadata={'producer': 'Microsoft® Word for Microsoft 365', 'creator': 'Microsoft® Word for Microsoft 365', 'creationdate': '2025-07-31T20:30:22-05:00', 'author': 'Shyam Sankeerth Chanda', 'moddate': '2025-07-31T20:30:22-05:00', 'source': 'attention.pdf', 'total_pages': 2, 'page': 1, 'page_label': '2'}, page_content='Role – Java Developer Aug 2019 – Jul 2022 \\nTriad Square Infosec – Bengaluru, India \\nProject: Enterprise Identity and Access Management Modernization \\n \\n• Implemented secure identity modules using Java, Spring, and Hibernate for access control and user \\nauthentication.  \\n• Created data models and PL/SQL scripts in Oracle for managing  identity records and access \\npermissions.  \\n• Deployed services using Spring Boot and JBoss server with integration of  external SOAP and REST \\nAPIs. \\n• Managed  source code through Git and configured GitLab pipelines for automated  CI/CD workflows. \\n• Applied Design by Contract and Domain-Specific Language concepts to validate input/output across \\nservices. \\n• Developed messaging modules using Kafka and Active MQ to ensure secure communication across \\nauthentication systems.  \\n• Automated functional and integration  tests with JUnit, jMock, and Selenium to maintain  test \\ncoverage.  \\n• Used SOAP UI and Postman to test endpoint responses, security headers, and session  management \\nfeatures. \\n• Worked in Agile environment with regular iterations and stakeholder feedback to improve system \\nreliability. \\n• Documented services, schemas, and workflows to maintain clarity  across multiple  development \\nteams. \\n• Reduced manual intervention by 40% by automating password reset and multi-factor authentication \\nprocesses.  \\n• Supported production  releases and implemented rollback strategies, reducing downtime  by 20%. \\n• Resolved application defects and optimized Oracle queries to improve system response time under \\nload. \\n• Ensured adherence to secure coding standards and conducted peer code reviews to identify \\nvulnerabilities. \\n• Delivered monthly demos  showcasing  identity system enhancements  and user access analytics. \\n \\nEDUCATION \\nBachelor of Technology in Computer Science and Engineering– GPA: 7/ 10 Jul 2019 \\nAcharya Nagarjuna University – Guntur, India \\n \\nPROJECTS \\nAI-Powered Mental Health Chatbot using Java and ML Libraries \\n• Designed a mental health screening chatbot using Java, integrating Naive Bayes and Decision Tree \\nclassifiers through the Weka ML library.  \\n• Implemented NLP preprocessing  (tokenization,  stop-word removal) using Apache OpenNLP for \\ncleaner user input handling. \\n• Converted  text to numerical vectors using TF-IDF and applied classification logic for mental health \\nintent recognition.  \\n \\nREWARDS & APPRECIATIONS \\n• Google  India Challenge Scholarship  Recipient. \\n• Appreciated and rewarded by government of India for innovating digital currency  solution and \\nmaking it in top 100 across the country.')]"
      ]
     },
     "execution_count": 24,
     "metadata": {},
     "output_type": "execute_result"
    }
   ],
   "source": [
    "docs = loader.load()\n",
    "\n",
    "docs"
   ]
  },
  {
   "cell_type": "code",
   "execution_count": 27,
   "metadata": {},
   "outputs": [],
   "source": [
    "from langchain.text_splitter import RecursiveCharacterTextSplitter\n",
    "text_splitter = RecursiveCharacterTextSplitter(chunk_size=1000, chunk_overlap=200)\n",
    "documents = text_splitter.split_documents(docs)"
   ]
  },
  {
   "cell_type": "code",
   "execution_count": 29,
   "metadata": {},
   "outputs": [
    {
     "data": {
      "text/plain": [
       "[Document(metadata={'producer': 'Microsoft® Word for Microsoft 365', 'creator': 'Microsoft® Word for Microsoft 365', 'creationdate': '2025-07-31T20:30:22-05:00', 'author': 'Shyam Sankeerth Chanda', 'moddate': '2025-07-31T20:30:22-05:00', 'source': 'attention.pdf', 'total_pages': 2, 'page': 0, 'page_label': '1'}, page_content='SAI MOUNIK KAMISETTY \\nHartford, CT | +1 (302) 312-1377 | saictvl.k@gmail.com \\n \\nPROFESSIONAL SUMMARY \\n• Over 6 years of experience in designing,  developing,  and deploying scalable enterprise Java \\napplications.  \\n• Hands-on expertise in Java/J2EE, Spring Boot,  Hibernate, SQL, PL/SQL, and web services \\nimplementation.  \\n• Proficient in using Git, Bitbucket, Jenkins, and practicing CI/CD methodologies in agile development \\nenvironments.  \\n• Well-versed in testing and quality assurance using tools like JUnit, jMock, Selenium, SOAP UI, and \\nPostman.  \\n• Experienced in implementing Kafka and Active MQ for messaging, and secure software design using \\nSOA and design patterns.  \\n• Proficient in SOA (ESB, Web Services) architecture and application/web services security  design \\npatterns to ensure scalable and secure integration.  \\n \\nTECHNICAL SKILLS \\nLanguages: Java, SQL, PL/SQL \\nFrameworks: Spring Boot, Hibernate, JUnit, Selenium \\nTools: Git, Bitbucket, Postman, SOAP UI, Maven, Jenkins'),\n",
       " Document(metadata={'producer': 'Microsoft® Word for Microsoft 365', 'creator': 'Microsoft® Word for Microsoft 365', 'creationdate': '2025-07-31T20:30:22-05:00', 'author': 'Shyam Sankeerth Chanda', 'moddate': '2025-07-31T20:30:22-05:00', 'source': 'attention.pdf', 'total_pages': 2, 'page': 0, 'page_label': '1'}, page_content='TECHNICAL SKILLS \\nLanguages: Java, SQL, PL/SQL \\nFrameworks: Spring Boot, Hibernate, JUnit, Selenium \\nTools: Git, Bitbucket, Postman, SOAP UI, Maven, Jenkins \\nMessaging: Kafka, ActiveMQ  \\nDatabases: Oracle, MySQL \\nWeb Technologies: REST, SOAP, JBoss \\nDevOps: CI/CD, Docker (basic), Agile, Scrum \\nVersion Control: Git, Bitbucket \\nCloud: AWS (EC2, S3, EKS, Lambda,  CloudWatch, SNS, SQS, API Gateway, DynamoDB) , Azure \\nDevOps: JUnit, jMock, Selenium \\n \\nCERTIFICATIONS \\n• AWS Solutions  Architect Associate  \\n• Java Developer Nano Degree (Udacity) \\n• JetBrains Academy:  Java Developer Track \\n \\nPROFESSIONAL EXPERIENCE \\nRole – Software Engineer Aug 2022 – till date \\nCognizant – DE, USA \\nProject: Enterprise-scale backend development using Java/J2EE \\n \\n• Developed backend services using Java and J2EE technologies to support chatbot workflows \\nintegrated with third-party APIs. \\n• Created secure SOAP and RESTful services based on SOA design patterns for NLP engine integration'),\n",
       " Document(metadata={'producer': 'Microsoft® Word for Microsoft 365', 'creator': 'Microsoft® Word for Microsoft 365', 'creationdate': '2025-07-31T20:30:22-05:00', 'author': 'Shyam Sankeerth Chanda', 'moddate': '2025-07-31T20:30:22-05:00', 'source': 'attention.pdf', 'total_pages': 2, 'page': 0, 'page_label': '1'}, page_content='integrated with third-party APIs. \\n• Created secure SOAP and RESTful services based on SOA design patterns for NLP engine integration \\nwith enterprise systems.  \\n• Utilized Bitbucket and Git for version  control and collaborated  with peers using pull requests and \\ncode reviews.  \\n• Designed object-oriented components following Domain-Driven Design, enhancing maintainability \\nand reusability.  \\n• Configured CI/CD pipelines using Jenkins to automate builds, tests, and deployments  for \\nmicroservices.  \\n• Integrated Apache Kafka and Active MQ for asynchronous messaging in chatbot communication \\nworkflows. \\n• Wrote optimized  SQL and PL/SQL queries to manage  chatbot interaction  data in Oracle databases.  \\n• Performed testing using JUnit, jMock,  and validated APIs through Postman  and SOAP UI for \\nfunctionality and reliability.  \\n• Participated in Agile ceremonies and sprint planning to deliver incremental features for \\nconversational automation.'),\n",
       " Document(metadata={'producer': 'Microsoft® Word for Microsoft 365', 'creator': 'Microsoft® Word for Microsoft 365', 'creationdate': '2025-07-31T20:30:22-05:00', 'author': 'Shyam Sankeerth Chanda', 'moddate': '2025-07-31T20:30:22-05:00', 'source': 'attention.pdf', 'total_pages': 2, 'page': 0, 'page_label': '1'}, page_content='functionality and reliability.  \\n• Participated in Agile ceremonies and sprint planning to deliver incremental features for \\nconversational automation.  \\n• Collaborated with cross-functional teams to design end-to-end solutions improving chatbot response \\ntimes by 25%.'),\n",
       " Document(metadata={'producer': 'Microsoft® Word for Microsoft 365', 'creator': 'Microsoft® Word for Microsoft 365', 'creationdate': '2025-07-31T20:30:22-05:00', 'author': 'Shyam Sankeerth Chanda', 'moddate': '2025-07-31T20:30:22-05:00', 'source': 'attention.pdf', 'total_pages': 2, 'page': 1, 'page_label': '2'}, page_content='Role – Java Developer Aug 2019 – Jul 2022 \\nTriad Square Infosec – Bengaluru, India \\nProject: Enterprise Identity and Access Management Modernization \\n \\n• Implemented secure identity modules using Java, Spring, and Hibernate for access control and user \\nauthentication.  \\n• Created data models and PL/SQL scripts in Oracle for managing  identity records and access \\npermissions.  \\n• Deployed services using Spring Boot and JBoss server with integration of  external SOAP and REST \\nAPIs. \\n• Managed  source code through Git and configured GitLab pipelines for automated  CI/CD workflows. \\n• Applied Design by Contract and Domain-Specific Language concepts to validate input/output across \\nservices. \\n• Developed messaging modules using Kafka and Active MQ to ensure secure communication across \\nauthentication systems.  \\n• Automated functional and integration  tests with JUnit, jMock, and Selenium to maintain  test \\ncoverage.')]"
      ]
     },
     "execution_count": 29,
     "metadata": {},
     "output_type": "execute_result"
    }
   ],
   "source": [
    "documents[:5]"
   ]
  },
  {
   "cell_type": "code",
   "execution_count": null,
   "metadata": {},
   "outputs": [
    {
     "ename": "ImportError",
     "evalue": "Could not import chromadb python package. Please install it with `pip install chromadb`.",
     "output_type": "error",
     "traceback": [
      "\u001b[0;31m---------------------------------------------------------------------------\u001b[0m",
      "\u001b[0;31mImportError\u001b[0m                               Traceback (most recent call last)",
      "File \u001b[0;32m~/miniconda3/lib/python3.11/site-packages/langchain_community/vectorstores/chroma.py:83\u001b[0m, in \u001b[0;36mChroma.__init__\u001b[0;34m(self, collection_name, embedding_function, persist_directory, client_settings, collection_metadata, client, relevance_score_fn)\u001b[0m\n\u001b[1;32m     82\u001b[0m \u001b[38;5;28;01mtry\u001b[39;00m:\n\u001b[0;32m---> 83\u001b[0m     \u001b[38;5;28;01mimport\u001b[39;00m \u001b[38;5;21;01mchromadb\u001b[39;00m\n\u001b[1;32m     84\u001b[0m     \u001b[38;5;28;01mimport\u001b[39;00m \u001b[38;5;21;01mchromadb\u001b[39;00m\u001b[38;5;21;01m.\u001b[39;00m\u001b[38;5;21;01mconfig\u001b[39;00m\n",
      "File \u001b[0;32m~/miniconda3/lib/python3.11/site-packages/chromadb/__init__.py:6\u001b[0m\n\u001b[1;32m      5\u001b[0m \u001b[38;5;28;01mfrom\u001b[39;00m \u001b[38;5;21;01mchromadb\u001b[39;00m\u001b[38;5;21;01m.\u001b[39;00m\u001b[38;5;21;01mapi\u001b[39;00m\u001b[38;5;21;01m.\u001b[39;00m\u001b[38;5;21;01masync_client\u001b[39;00m \u001b[38;5;28;01mimport\u001b[39;00m AsyncClient \u001b[38;5;28;01mas\u001b[39;00m AsyncClientCreator\n\u001b[0;32m----> 6\u001b[0m \u001b[38;5;28;01mfrom\u001b[39;00m \u001b[38;5;21;01mchromadb\u001b[39;00m\u001b[38;5;21;01m.\u001b[39;00m\u001b[38;5;21;01mauth\u001b[39;00m\u001b[38;5;21;01m.\u001b[39;00m\u001b[38;5;21;01mtoken_authn\u001b[39;00m \u001b[38;5;28;01mimport\u001b[39;00m TokenTransportHeader\n\u001b[1;32m      7\u001b[0m \u001b[38;5;28;01mimport\u001b[39;00m \u001b[38;5;21;01mchromadb\u001b[39;00m\u001b[38;5;21;01m.\u001b[39;00m\u001b[38;5;21;01mconfig\u001b[39;00m\n",
      "File \u001b[0;32m~/miniconda3/lib/python3.11/site-packages/chromadb/auth/token_authn/__init__.py:24\u001b[0m\n\u001b[1;32m     23\u001b[0m \u001b[38;5;28;01mfrom\u001b[39;00m \u001b[38;5;21;01mchromadb\u001b[39;00m\u001b[38;5;21;01m.\u001b[39;00m\u001b[38;5;21;01merrors\u001b[39;00m \u001b[38;5;28;01mimport\u001b[39;00m ChromaAuthError\n\u001b[0;32m---> 24\u001b[0m \u001b[38;5;28;01mfrom\u001b[39;00m \u001b[38;5;21;01mchromadb\u001b[39;00m\u001b[38;5;21;01m.\u001b[39;00m\u001b[38;5;21;01mtelemetry\u001b[39;00m\u001b[38;5;21;01m.\u001b[39;00m\u001b[38;5;21;01mopentelemetry\u001b[39;00m \u001b[38;5;28;01mimport\u001b[39;00m (\n\u001b[1;32m     25\u001b[0m     OpenTelemetryGranularity,\n\u001b[1;32m     26\u001b[0m     trace_method,\n\u001b[1;32m     27\u001b[0m )\n\u001b[1;32m     29\u001b[0m T \u001b[38;5;241m=\u001b[39m TypeVar(\u001b[38;5;124m\"\u001b[39m\u001b[38;5;124mT\u001b[39m\u001b[38;5;124m\"\u001b[39m)\n",
      "File \u001b[0;32m~/miniconda3/lib/python3.11/site-packages/chromadb/telemetry/opentelemetry/__init__.py:13\u001b[0m\n\u001b[1;32m     10\u001b[0m \u001b[38;5;28;01mfrom\u001b[39;00m \u001b[38;5;21;01mopentelemetry\u001b[39;00m\u001b[38;5;21;01m.\u001b[39;00m\u001b[38;5;21;01msdk\u001b[39;00m\u001b[38;5;21;01m.\u001b[39;00m\u001b[38;5;21;01mtrace\u001b[39;00m\u001b[38;5;21;01m.\u001b[39;00m\u001b[38;5;21;01mexport\u001b[39;00m \u001b[38;5;28;01mimport\u001b[39;00m (\n\u001b[1;32m     11\u001b[0m     BatchSpanProcessor,\n\u001b[1;32m     12\u001b[0m )\n\u001b[0;32m---> 13\u001b[0m \u001b[38;5;28;01mfrom\u001b[39;00m \u001b[38;5;21;01mopentelemetry\u001b[39;00m\u001b[38;5;21;01m.\u001b[39;00m\u001b[38;5;21;01mexporter\u001b[39;00m\u001b[38;5;21;01m.\u001b[39;00m\u001b[38;5;21;01motlp\u001b[39;00m\u001b[38;5;21;01m.\u001b[39;00m\u001b[38;5;21;01mproto\u001b[39;00m\u001b[38;5;21;01m.\u001b[39;00m\u001b[38;5;21;01mgrpc\u001b[39;00m\u001b[38;5;21;01m.\u001b[39;00m\u001b[38;5;21;01mtrace_exporter\u001b[39;00m \u001b[38;5;28;01mimport\u001b[39;00m OTLPSpanExporter\n\u001b[1;32m     15\u001b[0m \u001b[38;5;28;01mfrom\u001b[39;00m \u001b[38;5;21;01mchromadb\u001b[39;00m\u001b[38;5;21;01m.\u001b[39;00m\u001b[38;5;21;01mconfig\u001b[39;00m \u001b[38;5;28;01mimport\u001b[39;00m Component\n",
      "File \u001b[0;32m~/miniconda3/lib/python3.11/site-packages/opentelemetry/exporter/otlp/proto/grpc/trace_exporter/__init__.py:22\u001b[0m\n\u001b[1;32m     21\u001b[0m \u001b[38;5;28;01mfrom\u001b[39;00m \u001b[38;5;21;01mgrpc\u001b[39;00m \u001b[38;5;28;01mimport\u001b[39;00m ChannelCredentials, Compression\n\u001b[0;32m---> 22\u001b[0m \u001b[38;5;28;01mfrom\u001b[39;00m \u001b[38;5;21;01mopentelemetry\u001b[39;00m\u001b[38;5;21;01m.\u001b[39;00m\u001b[38;5;21;01mexporter\u001b[39;00m\u001b[38;5;21;01m.\u001b[39;00m\u001b[38;5;21;01motlp\u001b[39;00m\u001b[38;5;21;01m.\u001b[39;00m\u001b[38;5;21;01mproto\u001b[39;00m\u001b[38;5;21;01m.\u001b[39;00m\u001b[38;5;21;01mcommon\u001b[39;00m\u001b[38;5;21;01m.\u001b[39;00m\u001b[38;5;21;01mtrace_encoder\u001b[39;00m \u001b[38;5;28;01mimport\u001b[39;00m (\n\u001b[1;32m     23\u001b[0m     encode_spans,\n\u001b[1;32m     24\u001b[0m )\n\u001b[1;32m     25\u001b[0m \u001b[38;5;28;01mfrom\u001b[39;00m \u001b[38;5;21;01mopentelemetry\u001b[39;00m\u001b[38;5;21;01m.\u001b[39;00m\u001b[38;5;21;01mexporter\u001b[39;00m\u001b[38;5;21;01m.\u001b[39;00m\u001b[38;5;21;01motlp\u001b[39;00m\u001b[38;5;21;01m.\u001b[39;00m\u001b[38;5;21;01mproto\u001b[39;00m\u001b[38;5;21;01m.\u001b[39;00m\u001b[38;5;21;01mgrpc\u001b[39;00m\u001b[38;5;21;01m.\u001b[39;00m\u001b[38;5;21;01mexporter\u001b[39;00m \u001b[38;5;28;01mimport\u001b[39;00m (  \u001b[38;5;66;03m# noqa: F401\u001b[39;00m\n\u001b[1;32m     26\u001b[0m     OTLPExporterMixin,\n\u001b[1;32m     27\u001b[0m     _get_credentials,\n\u001b[1;32m     28\u001b[0m     environ_to_compression,\n\u001b[1;32m     29\u001b[0m     get_resource_data,\n\u001b[1;32m     30\u001b[0m )\n",
      "File \u001b[0;32m~/miniconda3/lib/python3.11/site-packages/opentelemetry/exporter/otlp/proto/common/trace_encoder.py:16\u001b[0m\n\u001b[1;32m      1\u001b[0m \u001b[38;5;66;03m# Copyright The OpenTelemetry Authors\u001b[39;00m\n\u001b[1;32m      2\u001b[0m \u001b[38;5;66;03m#\u001b[39;00m\n\u001b[1;32m      3\u001b[0m \u001b[38;5;66;03m# Licensed under the Apache License, Version 2.0 (the \"License\");\u001b[39;00m\n\u001b[0;32m   (...)\u001b[0m\n\u001b[1;32m     12\u001b[0m \u001b[38;5;66;03m# See the License for the specific language governing permissions and\u001b[39;00m\n\u001b[1;32m     13\u001b[0m \u001b[38;5;66;03m# limitations under the License.\u001b[39;00m\n\u001b[0;32m---> 16\u001b[0m \u001b[38;5;28;01mfrom\u001b[39;00m \u001b[38;5;21;01mopentelemetry\u001b[39;00m\u001b[38;5;21;01m.\u001b[39;00m\u001b[38;5;21;01mexporter\u001b[39;00m\u001b[38;5;21;01m.\u001b[39;00m\u001b[38;5;21;01motlp\u001b[39;00m\u001b[38;5;21;01m.\u001b[39;00m\u001b[38;5;21;01mproto\u001b[39;00m\u001b[38;5;21;01m.\u001b[39;00m\u001b[38;5;21;01mcommon\u001b[39;00m\u001b[38;5;21;01m.\u001b[39;00m\u001b[38;5;21;01m_internal\u001b[39;00m\u001b[38;5;21;01m.\u001b[39;00m\u001b[38;5;21;01mtrace_encoder\u001b[39;00m \u001b[38;5;28;01mimport\u001b[39;00m (\n\u001b[1;32m     17\u001b[0m     encode_spans,\n\u001b[1;32m     18\u001b[0m )\n\u001b[1;32m     20\u001b[0m __all__ \u001b[38;5;241m=\u001b[39m [\u001b[38;5;124m\"\u001b[39m\u001b[38;5;124mencode_spans\u001b[39m\u001b[38;5;124m\"\u001b[39m]\n",
      "File \u001b[0;32m~/miniconda3/lib/python3.11/site-packages/opentelemetry/exporter/otlp/proto/common/_internal/__init__.py:46\u001b[0m\n\u001b[1;32m     45\u001b[0m \u001b[38;5;28;01mfrom\u001b[39;00m \u001b[38;5;21;01mopentelemetry\u001b[39;00m\u001b[38;5;21;01m.\u001b[39;00m\u001b[38;5;21;01msdk\u001b[39;00m\u001b[38;5;21;01m.\u001b[39;00m\u001b[38;5;21;01mutil\u001b[39;00m\u001b[38;5;21;01m.\u001b[39;00m\u001b[38;5;21;01minstrumentation\u001b[39;00m \u001b[38;5;28;01mimport\u001b[39;00m InstrumentationScope\n\u001b[0;32m---> 46\u001b[0m \u001b[38;5;28;01mfrom\u001b[39;00m \u001b[38;5;21;01mopentelemetry\u001b[39;00m\u001b[38;5;21;01m.\u001b[39;00m\u001b[38;5;21;01mutil\u001b[39;00m\u001b[38;5;21;01m.\u001b[39;00m\u001b[38;5;21;01mtypes\u001b[39;00m \u001b[38;5;28;01mimport\u001b[39;00m _ExtendedAttributes\n\u001b[1;32m     48\u001b[0m _logger \u001b[38;5;241m=\u001b[39m logging\u001b[38;5;241m.\u001b[39mgetLogger(\u001b[38;5;18m__name__\u001b[39m)\n",
      "\u001b[0;31mImportError\u001b[0m: cannot import name '_ExtendedAttributes' from 'opentelemetry.util.types' (/Users/azzu/miniconda3/lib/python3.11/site-packages/opentelemetry/util/types.py)",
      "\nDuring handling of the above exception, another exception occurred:\n",
      "\u001b[0;31mImportError\u001b[0m                               Traceback (most recent call last)",
      "Cell \u001b[0;32mIn[31], line 4\u001b[0m\n\u001b[1;32m      2\u001b[0m \u001b[38;5;28;01mfrom\u001b[39;00m \u001b[38;5;21;01mlangchain_community\u001b[39;00m\u001b[38;5;21;01m.\u001b[39;00m\u001b[38;5;21;01membeddings\u001b[39;00m \u001b[38;5;28;01mimport\u001b[39;00m OpenAIEmbeddings\n\u001b[1;32m      3\u001b[0m \u001b[38;5;28;01mfrom\u001b[39;00m \u001b[38;5;21;01mlangchain_community\u001b[39;00m\u001b[38;5;21;01m.\u001b[39;00m\u001b[38;5;21;01mvectorstores\u001b[39;00m \u001b[38;5;28;01mimport\u001b[39;00m Chroma\n\u001b[0;32m----> 4\u001b[0m db \u001b[38;5;241m=\u001b[39m \u001b[43mChroma\u001b[49m\u001b[38;5;241;43m.\u001b[39;49m\u001b[43mfrom_documents\u001b[49m\u001b[43m(\u001b[49m\u001b[43mdocuments\u001b[49m\u001b[43m[\u001b[49m\u001b[43m:\u001b[49m\u001b[38;5;241;43m20\u001b[39;49m\u001b[43m]\u001b[49m\u001b[43m,\u001b[49m\u001b[43m \u001b[49m\u001b[43mOpenAIEmbeddings\u001b[49m\u001b[43m)\u001b[49m\n",
      "File \u001b[0;32m~/miniconda3/lib/python3.11/site-packages/langchain_community/vectorstores/chroma.py:887\u001b[0m, in \u001b[0;36mChroma.from_documents\u001b[0;34m(cls, documents, embedding, ids, collection_name, persist_directory, client_settings, client, collection_metadata, **kwargs)\u001b[0m\n\u001b[1;32m    885\u001b[0m texts \u001b[38;5;241m=\u001b[39m [doc\u001b[38;5;241m.\u001b[39mpage_content \u001b[38;5;28;01mfor\u001b[39;00m doc \u001b[38;5;129;01min\u001b[39;00m documents]\n\u001b[1;32m    886\u001b[0m metadatas \u001b[38;5;241m=\u001b[39m [doc\u001b[38;5;241m.\u001b[39mmetadata \u001b[38;5;28;01mfor\u001b[39;00m doc \u001b[38;5;129;01min\u001b[39;00m documents]\n\u001b[0;32m--> 887\u001b[0m \u001b[38;5;28;01mreturn\u001b[39;00m \u001b[38;5;28;43mcls\u001b[39;49m\u001b[38;5;241;43m.\u001b[39;49m\u001b[43mfrom_texts\u001b[49m\u001b[43m(\u001b[49m\n\u001b[1;32m    888\u001b[0m \u001b[43m    \u001b[49m\u001b[43mtexts\u001b[49m\u001b[38;5;241;43m=\u001b[39;49m\u001b[43mtexts\u001b[49m\u001b[43m,\u001b[49m\n\u001b[1;32m    889\u001b[0m \u001b[43m    \u001b[49m\u001b[43membedding\u001b[49m\u001b[38;5;241;43m=\u001b[39;49m\u001b[43membedding\u001b[49m\u001b[43m,\u001b[49m\n\u001b[1;32m    890\u001b[0m \u001b[43m    \u001b[49m\u001b[43mmetadatas\u001b[49m\u001b[38;5;241;43m=\u001b[39;49m\u001b[43mmetadatas\u001b[49m\u001b[43m,\u001b[49m\n\u001b[1;32m    891\u001b[0m \u001b[43m    \u001b[49m\u001b[43mids\u001b[49m\u001b[38;5;241;43m=\u001b[39;49m\u001b[43mids\u001b[49m\u001b[43m,\u001b[49m\n\u001b[1;32m    892\u001b[0m \u001b[43m    \u001b[49m\u001b[43mcollection_name\u001b[49m\u001b[38;5;241;43m=\u001b[39;49m\u001b[43mcollection_name\u001b[49m\u001b[43m,\u001b[49m\n\u001b[1;32m    893\u001b[0m \u001b[43m    \u001b[49m\u001b[43mpersist_directory\u001b[49m\u001b[38;5;241;43m=\u001b[39;49m\u001b[43mpersist_directory\u001b[49m\u001b[43m,\u001b[49m\n\u001b[1;32m    894\u001b[0m \u001b[43m    \u001b[49m\u001b[43mclient_settings\u001b[49m\u001b[38;5;241;43m=\u001b[39;49m\u001b[43mclient_settings\u001b[49m\u001b[43m,\u001b[49m\n\u001b[1;32m    895\u001b[0m \u001b[43m    \u001b[49m\u001b[43mclient\u001b[49m\u001b[38;5;241;43m=\u001b[39;49m\u001b[43mclient\u001b[49m\u001b[43m,\u001b[49m\n\u001b[1;32m    896\u001b[0m \u001b[43m    \u001b[49m\u001b[43mcollection_metadata\u001b[49m\u001b[38;5;241;43m=\u001b[39;49m\u001b[43mcollection_metadata\u001b[49m\u001b[43m,\u001b[49m\n\u001b[1;32m    897\u001b[0m \u001b[43m    \u001b[49m\u001b[38;5;241;43m*\u001b[39;49m\u001b[38;5;241;43m*\u001b[39;49m\u001b[43mkwargs\u001b[49m\u001b[43m,\u001b[49m\n\u001b[1;32m    898\u001b[0m \u001b[43m\u001b[49m\u001b[43m)\u001b[49m\n",
      "File \u001b[0;32m~/miniconda3/lib/python3.11/site-packages/langchain_community/vectorstores/chroma.py:817\u001b[0m, in \u001b[0;36mChroma.from_texts\u001b[0;34m(cls, texts, embedding, metadatas, ids, collection_name, persist_directory, client_settings, client, collection_metadata, **kwargs)\u001b[0m\n\u001b[1;32m    784\u001b[0m \u001b[38;5;129m@classmethod\u001b[39m\n\u001b[1;32m    785\u001b[0m \u001b[38;5;28;01mdef\u001b[39;00m \u001b[38;5;21mfrom_texts\u001b[39m(\n\u001b[1;32m    786\u001b[0m     \u001b[38;5;28mcls\u001b[39m: Type[Chroma],\n\u001b[0;32m   (...)\u001b[0m\n\u001b[1;32m    796\u001b[0m     \u001b[38;5;241m*\u001b[39m\u001b[38;5;241m*\u001b[39mkwargs: Any,\n\u001b[1;32m    797\u001b[0m ) \u001b[38;5;241m-\u001b[39m\u001b[38;5;241m>\u001b[39m Chroma:\n\u001b[1;32m    798\u001b[0m \u001b[38;5;250m    \u001b[39m\u001b[38;5;124;03m\"\"\"Create a Chroma vectorstore from a raw documents.\u001b[39;00m\n\u001b[1;32m    799\u001b[0m \n\u001b[1;32m    800\u001b[0m \u001b[38;5;124;03m    If a persist_directory is specified, the collection will be persisted there.\u001b[39;00m\n\u001b[0;32m   (...)\u001b[0m\n\u001b[1;32m    815\u001b[0m \u001b[38;5;124;03m        Chroma: Chroma vectorstore.\u001b[39;00m\n\u001b[1;32m    816\u001b[0m \u001b[38;5;124;03m    \"\"\"\u001b[39;00m\n\u001b[0;32m--> 817\u001b[0m     chroma_collection \u001b[38;5;241m=\u001b[39m \u001b[38;5;28;43mcls\u001b[39;49m\u001b[43m(\u001b[49m\n\u001b[1;32m    818\u001b[0m \u001b[43m        \u001b[49m\u001b[43mcollection_name\u001b[49m\u001b[38;5;241;43m=\u001b[39;49m\u001b[43mcollection_name\u001b[49m\u001b[43m,\u001b[49m\n\u001b[1;32m    819\u001b[0m \u001b[43m        \u001b[49m\u001b[43membedding_function\u001b[49m\u001b[38;5;241;43m=\u001b[39;49m\u001b[43membedding\u001b[49m\u001b[43m,\u001b[49m\n\u001b[1;32m    820\u001b[0m \u001b[43m        \u001b[49m\u001b[43mpersist_directory\u001b[49m\u001b[38;5;241;43m=\u001b[39;49m\u001b[43mpersist_directory\u001b[49m\u001b[43m,\u001b[49m\n\u001b[1;32m    821\u001b[0m \u001b[43m        \u001b[49m\u001b[43mclient_settings\u001b[49m\u001b[38;5;241;43m=\u001b[39;49m\u001b[43mclient_settings\u001b[49m\u001b[43m,\u001b[49m\n\u001b[1;32m    822\u001b[0m \u001b[43m        \u001b[49m\u001b[43mclient\u001b[49m\u001b[38;5;241;43m=\u001b[39;49m\u001b[43mclient\u001b[49m\u001b[43m,\u001b[49m\n\u001b[1;32m    823\u001b[0m \u001b[43m        \u001b[49m\u001b[43mcollection_metadata\u001b[49m\u001b[38;5;241;43m=\u001b[39;49m\u001b[43mcollection_metadata\u001b[49m\u001b[43m,\u001b[49m\n\u001b[1;32m    824\u001b[0m \u001b[43m        \u001b[49m\u001b[38;5;241;43m*\u001b[39;49m\u001b[38;5;241;43m*\u001b[39;49m\u001b[43mkwargs\u001b[49m\u001b[43m,\u001b[49m\n\u001b[1;32m    825\u001b[0m \u001b[43m    \u001b[49m\u001b[43m)\u001b[49m\n\u001b[1;32m    826\u001b[0m     \u001b[38;5;28;01mif\u001b[39;00m ids \u001b[38;5;129;01mis\u001b[39;00m \u001b[38;5;28;01mNone\u001b[39;00m:\n\u001b[1;32m    827\u001b[0m         ids \u001b[38;5;241m=\u001b[39m [\u001b[38;5;28mstr\u001b[39m(uuid\u001b[38;5;241m.\u001b[39muuid4()) \u001b[38;5;28;01mfor\u001b[39;00m _ \u001b[38;5;129;01min\u001b[39;00m texts]\n",
      "File \u001b[0;32m~/miniconda3/lib/python3.11/site-packages/langchain_core/_api/deprecation.py:223\u001b[0m, in \u001b[0;36mdeprecated.<locals>.deprecate.<locals>.finalize.<locals>.warn_if_direct_instance\u001b[0;34m(self, *args, **kwargs)\u001b[0m\n\u001b[1;32m    221\u001b[0m     warned \u001b[38;5;241m=\u001b[39m \u001b[38;5;28;01mTrue\u001b[39;00m\n\u001b[1;32m    222\u001b[0m     emit_warning()\n\u001b[0;32m--> 223\u001b[0m \u001b[38;5;28;01mreturn\u001b[39;00m \u001b[43mwrapped\u001b[49m\u001b[43m(\u001b[49m\u001b[38;5;28;43mself\u001b[39;49m\u001b[43m,\u001b[49m\u001b[43m \u001b[49m\u001b[38;5;241;43m*\u001b[39;49m\u001b[43margs\u001b[49m\u001b[43m,\u001b[49m\u001b[43m \u001b[49m\u001b[38;5;241;43m*\u001b[39;49m\u001b[38;5;241;43m*\u001b[39;49m\u001b[43mkwargs\u001b[49m\u001b[43m)\u001b[49m\n",
      "File \u001b[0;32m~/miniconda3/lib/python3.11/site-packages/langchain_community/vectorstores/chroma.py:86\u001b[0m, in \u001b[0;36mChroma.__init__\u001b[0;34m(self, collection_name, embedding_function, persist_directory, client_settings, collection_metadata, client, relevance_score_fn)\u001b[0m\n\u001b[1;32m     84\u001b[0m     \u001b[38;5;28;01mimport\u001b[39;00m \u001b[38;5;21;01mchromadb\u001b[39;00m\u001b[38;5;21;01m.\u001b[39;00m\u001b[38;5;21;01mconfig\u001b[39;00m\n\u001b[1;32m     85\u001b[0m \u001b[38;5;28;01mexcept\u001b[39;00m \u001b[38;5;167;01mImportError\u001b[39;00m:\n\u001b[0;32m---> 86\u001b[0m     \u001b[38;5;28;01mraise\u001b[39;00m \u001b[38;5;167;01mImportError\u001b[39;00m(\n\u001b[1;32m     87\u001b[0m         \u001b[38;5;124m\"\u001b[39m\u001b[38;5;124mCould not import chromadb python package. \u001b[39m\u001b[38;5;124m\"\u001b[39m\n\u001b[1;32m     88\u001b[0m         \u001b[38;5;124m\"\u001b[39m\u001b[38;5;124mPlease install it with `pip install chromadb`.\u001b[39m\u001b[38;5;124m\"\u001b[39m\n\u001b[1;32m     89\u001b[0m     )\n\u001b[1;32m     91\u001b[0m \u001b[38;5;28;01mif\u001b[39;00m client \u001b[38;5;129;01mis\u001b[39;00m \u001b[38;5;129;01mnot\u001b[39;00m \u001b[38;5;28;01mNone\u001b[39;00m:\n\u001b[1;32m     92\u001b[0m     \u001b[38;5;28mself\u001b[39m\u001b[38;5;241m.\u001b[39m_client_settings \u001b[38;5;241m=\u001b[39m client_settings\n",
      "\u001b[0;31mImportError\u001b[0m: Could not import chromadb python package. Please install it with `pip install chromadb`."
     ]
    }
   ],
   "source": [
    "#vector embedding and vector store\n",
    "from langchain_community.embeddings import OpenAIEmbeddings\n",
    "from langchain_community.vectorstores import Chromadb\n",
    "db = Chroma.from_documents(documents[:20], OpenAIEmbeddings)"
   ]
  },
  {
   "cell_type": "code",
   "execution_count": null,
   "metadata": {},
   "outputs": [],
   "source": []
  }
 ],
 "metadata": {
  "kernelspec": {
   "display_name": "base",
   "language": "python",
   "name": "python3"
  },
  "language_info": {
   "codemirror_mode": {
    "name": "ipython",
    "version": 3
   },
   "file_extension": ".py",
   "mimetype": "text/x-python",
   "name": "python",
   "nbconvert_exporter": "python",
   "pygments_lexer": "ipython3",
   "version": "3.11.4"
  }
 },
 "nbformat": 4,
 "nbformat_minor": 2
}
